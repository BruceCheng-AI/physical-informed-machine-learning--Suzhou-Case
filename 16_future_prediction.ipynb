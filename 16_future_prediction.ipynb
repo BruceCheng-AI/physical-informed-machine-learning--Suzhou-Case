{
 "cells": [
  {
   "cell_type": "code",
   "execution_count": 5,
   "metadata": {},
   "outputs": [],
   "source": [
    "import pandas as pd\n",
    "import pyeto\n",
    "import numpy as np\n",
    "import model.integrated_model as model\n",
    "from sklearn.ensemble import RandomForestRegressor\n",
    "from sklearn.multioutput import MultiOutputRegressor\n",
    "from sklearn.model_selection import train_test_split\n",
    "from sklearn.metrics import r2_score, mean_squared_error\n"
   ]
  },
  {
   "attachments": {},
   "cell_type": "markdown",
   "metadata": {},
   "source": [
    "# 载入数据"
   ]
  },
  {
   "cell_type": "code",
   "execution_count": 6,
   "metadata": {},
   "outputs": [],
   "source": [
    "# Integrated Hydrological Model\n",
    "def calculate_runoff(precipitation,et):\n",
    "    infiltration_rate= 0.0044493533287026255\n",
    "    percolation_rate= 0.0015114617133019205\n",
    "    baseflow_rate= 0.018787726309103157\n",
    "    upper_zone_storage= 640.1599637595345\n",
    "    lower_zone_storage= 0.0\n",
    "    Area = 86.4\n",
    "\n",
    "    params = [infiltration_rate, percolation_rate, baseflow_rate, upper_zone_storage, lower_zone_storage]\n",
    "    runoff, _, _= model.integrated_model(params, precipitation, et,Area)\n",
    "\n",
    "    return runoff"
   ]
  },
  {
   "cell_type": "code",
   "execution_count": 9,
   "metadata": {},
   "outputs": [],
   "source": [
    "# This function takes in two dataframes: future_data and data\n",
    "# It combines the precipitation and temperature data from the two dataframes\n",
    "# and calculates the ETo and runoff for each combination of precipitation and temperature\n",
    "# It returns two dataframes: data_ssp245 and data_ssp585\n",
    "def obtain_data(future_data,data):\n",
    "    # Load the processed meteorological data\n",
    "    mete = pd.read_csv('../data/intermediate/mete_processed.csv', index_col=0)\n",
    "\n",
    "    # Combine the precipitation and temperature data from the two dataframes\n",
    "    data_history = pd.DataFrame({\n",
    "        'precip' : data['precipitation'],\n",
    "        'T2M' : mete['T2M'],\n",
    "        'T2M_MAX' : mete['T2M_MAX'],\n",
    "        'T2M_MIN' : mete['T2M_MIN'],\n",
    "    })\n",
    "    \n",
    "    data_ssp245 = pd.DataFrame({\n",
    "        'precip': future_data['ssp245_pr'].loc[data.index.max():],\n",
    "        'T2M': future_data['ssp245_tas'].loc[data.index.max():],\n",
    "        'T2M_MAX': future_data['ssp245_tasmax'].loc[data.index.max():],\n",
    "        'T2M_MIN': future_data['ssp245_tasmin'].loc[data.index.max():],\n",
    "    })\n",
    "\n",
    "    data_ssp585 =pd.DataFrame({\n",
    "        'precip': future_data['ssp585_pr'].loc[data.index.max():],\n",
    "        'T2M': future_data['ssp585_tas'].loc[data.index.max():],\n",
    "        'T2M_MAX': future_data['ssp585_tasmax'].loc[data.index.max():],\n",
    "        'T2M_MIN': future_data['ssp585_tasmin'].loc[data.index.max():],\n",
    "    })\n",
    "\n",
    "    # This function calculates the ETo using the Hargreaves method\n",
    "    def ETo_cal(tas,tasmax,tasmin):\n",
    "        lat = pyeto.deg2rad(31.3)  # Convert latitude to radians\n",
    "        time_index = pd.to_datetime(tas.index)  # Create a time index\n",
    "\n",
    "        sol_dec = np.array([pyeto.sol_dec(day) for day in time_index.dayofyear])\n",
    "        sha = np.array([pyeto.sunset_hour_angle(lat, sd) for sd in sol_dec])\n",
    "        ird = np.array([pyeto.inv_rel_dist_earth_sun(day) for day in time_index.dayofyear])\n",
    "        et_rad = np.array([pyeto.et_rad(lat, sd, sh, ir) for sd, sh, ir in zip(sol_dec, sha, ird)])\n",
    "\n",
    "        ETo = (pyeto.hargreaves(tasmin, tasmax, tas, et_rad)).round(2).interpolate()\n",
    "        return ETo\n",
    "\n",
    "    # Calculate ETo and runoff for each combination of precipitation and temperature\n",
    "    data_history['ETo_HS'] = ETo_cal(data_history['T2M'],data_history['T2M_MAX'],data_history['T2M_MIN'])\n",
    "    data_ssp245['ETo_HS'] = ETo_cal(data_ssp245['T2M'],data_ssp245['T2M_MAX'],data_ssp245['T2M_MIN'])\n",
    "    data_ssp585['ETo_HS'] = ETo_cal(data_ssp585['T2M'],data_ssp585['T2M_MAX'],data_ssp585['T2M_MIN'])\n",
    "    data_history['runoff'] = calculate_runoff(data_history['precip'],data_history['ETo_HS'])\n",
    "    data_history_ssp245 = pd.concat([data_history,data_ssp245],axis=0)\n",
    "    data_history_ssp585 = pd.concat([data_history,data_ssp585],axis=0)\n",
    "    data_history_ssp245['runoff'] = calculate_runoff(data_history_ssp245['precip'],data_history_ssp245['ETo_HS'])\n",
    "    data_history_ssp585['runoff'] = calculate_runoff(data_history_ssp585['precip'],data_history_ssp585['ETo_HS'])\n",
    "    \n",
    "    data_ssp245['runoff'] = data_history_ssp245['runoff'][len(data_history):]\n",
    "    data_ssp585['runoff'] = data_history_ssp585['runoff'][len(data_history):]\n",
    "    return data_history,data_ssp245,data_ssp585"
   ]
  },
  {
   "cell_type": "code",
   "execution_count": 10,
   "metadata": {},
   "outputs": [],
   "source": [
    "fengqiao_future_data = pd.read_csv('../data/intermediate/fengqiao_predictions_linear_scaling.csv',index_col=0)\n",
    "fengqiao_data = pd.read_csv('../data/intermediate/fengqiao_processed.csv', index_col=0)\n",
    "\n",
    "fengqiao_history,fengqiao_ssp245, fengqiao_ssp585 = obtain_data(fengqiao_future_data,fengqiao_data)"
   ]
  },
  {
   "cell_type": "code",
   "execution_count": 11,
   "metadata": {},
   "outputs": [],
   "source": [
    "suzhou_future_data = pd.read_csv('../data/intermediate/suzhou_predictions_linear_scaling.csv',index_col=0)\n",
    "suzhou_data = pd.read_csv('../data/intermediate/suzhou_interpolated.csv', index_col=0)\n",
    "\n",
    "suzhou_history,suzhou_ssp245, suzhou_ssp585 = obtain_data(suzhou_future_data,suzhou_data)"
   ]
  },
  {
   "cell_type": "code",
   "execution_count": 6,
   "metadata": {},
   "outputs": [
    {
     "data": {
      "text/html": [
       "<div>\n",
       "<style scoped>\n",
       "    .dataframe tbody tr th:only-of-type {\n",
       "        vertical-align: middle;\n",
       "    }\n",
       "\n",
       "    .dataframe tbody tr th {\n",
       "        vertical-align: top;\n",
       "    }\n",
       "\n",
       "    .dataframe thead th {\n",
       "        text-align: right;\n",
       "    }\n",
       "</style>\n",
       "<table border=\"1\" class=\"dataframe\">\n",
       "  <thead>\n",
       "    <tr style=\"text-align: right;\">\n",
       "      <th></th>\n",
       "      <th>precip</th>\n",
       "      <th>T2M</th>\n",
       "      <th>T2M_MAX</th>\n",
       "      <th>T2M_MIN</th>\n",
       "      <th>ETo_HS</th>\n",
       "      <th>runoff</th>\n",
       "    </tr>\n",
       "    <tr>\n",
       "      <th>time</th>\n",
       "      <th></th>\n",
       "      <th></th>\n",
       "      <th></th>\n",
       "      <th></th>\n",
       "      <th></th>\n",
       "      <th></th>\n",
       "    </tr>\n",
       "  </thead>\n",
       "  <tbody>\n",
       "    <tr>\n",
       "      <th>1989-01-01</th>\n",
       "      <td>0.0</td>\n",
       "      <td>4.81</td>\n",
       "      <td>10.07</td>\n",
       "      <td>1.12</td>\n",
       "      <td>1.22</td>\n",
       "      <td>0.018179</td>\n",
       "    </tr>\n",
       "    <tr>\n",
       "      <th>1989-01-02</th>\n",
       "      <td>0.0</td>\n",
       "      <td>5.83</td>\n",
       "      <td>12.39</td>\n",
       "      <td>0.13</td>\n",
       "      <td>1.49</td>\n",
       "      <td>0.036330</td>\n",
       "    </tr>\n",
       "    <tr>\n",
       "      <th>1989-01-03</th>\n",
       "      <td>0.0</td>\n",
       "      <td>6.70</td>\n",
       "      <td>12.26</td>\n",
       "      <td>3.40</td>\n",
       "      <td>1.32</td>\n",
       "      <td>0.054453</td>\n",
       "    </tr>\n",
       "    <tr>\n",
       "      <th>1989-01-04</th>\n",
       "      <td>0.0</td>\n",
       "      <td>7.05</td>\n",
       "      <td>12.15</td>\n",
       "      <td>4.04</td>\n",
       "      <td>1.29</td>\n",
       "      <td>0.072550</td>\n",
       "    </tr>\n",
       "    <tr>\n",
       "      <th>1989-01-05</th>\n",
       "      <td>0.9</td>\n",
       "      <td>7.32</td>\n",
       "      <td>12.61</td>\n",
       "      <td>3.19</td>\n",
       "      <td>1.41</td>\n",
       "      <td>0.090644</td>\n",
       "    </tr>\n",
       "  </tbody>\n",
       "</table>\n",
       "</div>"
      ],
      "text/plain": [
       "            precip   T2M  T2M_MAX  T2M_MIN  ETo_HS    runoff\n",
       "time                                                        \n",
       "1989-01-01     0.0  4.81    10.07     1.12    1.22  0.018179\n",
       "1989-01-02     0.0  5.83    12.39     0.13    1.49  0.036330\n",
       "1989-01-03     0.0  6.70    12.26     3.40    1.32  0.054453\n",
       "1989-01-04     0.0  7.05    12.15     4.04    1.29  0.072550\n",
       "1989-01-05     0.9  7.32    12.61     3.19    1.41  0.090644"
      ]
     },
     "execution_count": 6,
     "metadata": {},
     "output_type": "execute_result"
    }
   ],
   "source": [
    "fengqiao_history.head()"
   ]
  },
  {
   "attachments": {},
   "cell_type": "markdown",
   "metadata": {},
   "source": [
    "# Multi-output regression model"
   ]
  },
  {
   "cell_type": "code",
   "execution_count": 15,
   "metadata": {},
   "outputs": [
    {
     "name": "stdout",
     "output_type": "stream",
     "text": [
      "R-squared score: 0.814717797005445\n",
      "Mean squared error: 49.54941498042657\n"
     ]
    }
   ],
   "source": [
    "y_fengqiao_history = fengqiao_data[['discharge','water_level']]\n",
    "\n",
    "# Split data into train and test sets\n",
    "X_train, X_test, y_train, y_test = train_test_split(fengqiao_history, y_fengqiao_history, test_size=0.2, random_state=42)\n",
    "\n",
    "# Create a random forest regressor\n",
    "base_estimator = RandomForestRegressor(random_state=42)\n",
    "\n",
    "# Create the multi-output regressor\n",
    "model = MultiOutputRegressor(base_estimator)\n",
    "\n",
    "# Fit the model to your data\n",
    "model.fit(X_train, y_train)\n",
    "\n",
    "# Evaluate the model\n",
    "y_pred = model.predict(X_test)\n",
    "\n",
    "# Calculate R-squared score\n",
    "r2 = r2_score(y_test, y_pred)\n",
    "print(\"R-squared score:\", r2)\n",
    "# Calculate mean squared error\n",
    "mse = mean_squared_error(y_test, y_pred)\n",
    "print(\"Mean squared error:\", mse)"
   ]
  },
  {
   "cell_type": "code",
   "execution_count": 16,
   "metadata": {},
   "outputs": [],
   "source": [
    "fengqiao_ssp245_pred = model.predict(fengqiao_ssp245)\n",
    "fengqiao_ssp585_pred = model.predict(fengqiao_ssp585)\n",
    "suzhou_ssp245_pred = model.predict(suzhou_ssp245)\n",
    "suzhou_ssp585_pred = model.predict(suzhou_ssp585)"
   ]
  },
  {
   "cell_type": "code",
   "execution_count": 17,
   "metadata": {},
   "outputs": [
    {
     "data": {
      "text/html": [
       "<div>\n",
       "<style scoped>\n",
       "    .dataframe tbody tr th:only-of-type {\n",
       "        vertical-align: middle;\n",
       "    }\n",
       "\n",
       "    .dataframe tbody tr th {\n",
       "        vertical-align: top;\n",
       "    }\n",
       "\n",
       "    .dataframe thead th {\n",
       "        text-align: right;\n",
       "    }\n",
       "</style>\n",
       "<table border=\"1\" class=\"dataframe\">\n",
       "  <thead>\n",
       "    <tr style=\"text-align: right;\">\n",
       "      <th></th>\n",
       "      <th>discharge</th>\n",
       "      <th>water_level</th>\n",
       "    </tr>\n",
       "  </thead>\n",
       "  <tbody>\n",
       "    <tr>\n",
       "      <th>2022-12-31</th>\n",
       "      <td>60.910</td>\n",
       "      <td>3.2050</td>\n",
       "    </tr>\n",
       "    <tr>\n",
       "      <th>2023-01-01</th>\n",
       "      <td>79.269</td>\n",
       "      <td>3.3393</td>\n",
       "    </tr>\n",
       "    <tr>\n",
       "      <th>2023-01-02</th>\n",
       "      <td>72.999</td>\n",
       "      <td>3.3455</td>\n",
       "    </tr>\n",
       "    <tr>\n",
       "      <th>2023-01-03</th>\n",
       "      <td>62.268</td>\n",
       "      <td>3.2474</td>\n",
       "    </tr>\n",
       "    <tr>\n",
       "      <th>2023-01-04</th>\n",
       "      <td>59.252</td>\n",
       "      <td>3.2167</td>\n",
       "    </tr>\n",
       "  </tbody>\n",
       "</table>\n",
       "</div>"
      ],
      "text/plain": [
       "            discharge  water_level\n",
       "2022-12-31     60.910       3.2050\n",
       "2023-01-01     79.269       3.3393\n",
       "2023-01-02     72.999       3.3455\n",
       "2023-01-03     62.268       3.2474\n",
       "2023-01-04     59.252       3.2167"
      ]
     },
     "execution_count": 17,
     "metadata": {},
     "output_type": "execute_result"
    }
   ],
   "source": [
    "fengqiao_ssp245_pred_df = pd.DataFrame(fengqiao_ssp245_pred,columns=['discharge','water_level'],index=fengqiao_ssp245.index)\n",
    "fengqiao_ssp245_pred_df.head()"
   ]
  },
  {
   "cell_type": "code",
   "execution_count": 19,
   "metadata": {},
   "outputs": [
    {
     "data": {
      "text/plain": [
       "<Axes: >"
      ]
     },
     "execution_count": 19,
     "metadata": {},
     "output_type": "execute_result"
    },
    {
     "data": {
      "image/png": "[encoded data removed]",
      "text/plain": [
       "<Figure size 640x480 with 1 Axes>"
      ]
     },
     "metadata": {},
     "output_type": "display_data"
    }
   ],
   "source": [
    "fengqiao_ssp245_pred_df['water_level'].plot()"
   ]
  },
  {
   "attachments": {},
   "cell_type": "markdown",
   "metadata": {},
   "source": [
    "# LSTM"
   ]
  },
  {
   "cell_type": "code",
   "execution_count": 13,
   "metadata": {},
   "outputs": [
    {
     "data": {
      "text/html": [
       "<div>\n",
       "<style scoped>\n",
       "    .dataframe tbody tr th:only-of-type {\n",
       "        vertical-align: middle;\n",
       "    }\n",
       "\n",
       "    .dataframe tbody tr th {\n",
       "        vertical-align: top;\n",
       "    }\n",
       "\n",
       "    .dataframe thead th {\n",
       "        text-align: right;\n",
       "    }\n",
       "</style>\n",
       "<table border=\"1\" class=\"dataframe\">\n",
       "  <thead>\n",
       "    <tr style=\"text-align: right;\">\n",
       "      <th></th>\n",
       "      <th>precip</th>\n",
       "      <th>T2M</th>\n",
       "      <th>T2M_MAX</th>\n",
       "      <th>T2M_MIN</th>\n",
       "      <th>ETo_HS</th>\n",
       "      <th>runoff</th>\n",
       "    </tr>\n",
       "    <tr>\n",
       "      <th>time</th>\n",
       "      <th></th>\n",
       "      <th></th>\n",
       "      <th></th>\n",
       "      <th></th>\n",
       "      <th></th>\n",
       "      <th></th>\n",
       "    </tr>\n",
       "  </thead>\n",
       "  <tbody>\n",
       "    <tr>\n",
       "      <th>1989-01-01</th>\n",
       "      <td>0.0</td>\n",
       "      <td>4.81</td>\n",
       "      <td>10.07</td>\n",
       "      <td>1.12</td>\n",
       "      <td>1.22</td>\n",
       "      <td>0.018179</td>\n",
       "    </tr>\n",
       "    <tr>\n",
       "      <th>1989-01-02</th>\n",
       "      <td>0.0</td>\n",
       "      <td>5.83</td>\n",
       "      <td>12.39</td>\n",
       "      <td>0.13</td>\n",
       "      <td>1.49</td>\n",
       "      <td>0.036330</td>\n",
       "    </tr>\n",
       "    <tr>\n",
       "      <th>1989-01-03</th>\n",
       "      <td>0.0</td>\n",
       "      <td>6.70</td>\n",
       "      <td>12.26</td>\n",
       "      <td>3.40</td>\n",
       "      <td>1.32</td>\n",
       "      <td>0.054453</td>\n",
       "    </tr>\n",
       "    <tr>\n",
       "      <th>1989-01-04</th>\n",
       "      <td>0.0</td>\n",
       "      <td>7.05</td>\n",
       "      <td>12.15</td>\n",
       "      <td>4.04</td>\n",
       "      <td>1.29</td>\n",
       "      <td>0.072550</td>\n",
       "    </tr>\n",
       "    <tr>\n",
       "      <th>1989-01-05</th>\n",
       "      <td>0.5</td>\n",
       "      <td>7.32</td>\n",
       "      <td>12.61</td>\n",
       "      <td>3.19</td>\n",
       "      <td>1.41</td>\n",
       "      <td>0.090633</td>\n",
       "    </tr>\n",
       "    <tr>\n",
       "      <th>...</th>\n",
       "      <td>...</td>\n",
       "      <td>...</td>\n",
       "      <td>...</td>\n",
       "      <td>...</td>\n",
       "      <td>...</td>\n",
       "      <td>...</td>\n",
       "    </tr>\n",
       "    <tr>\n",
       "      <th>2022-12-27</th>\n",
       "      <td>0.0</td>\n",
       "      <td>2.28</td>\n",
       "      <td>8.31</td>\n",
       "      <td>-2.52</td>\n",
       "      <td>1.18</td>\n",
       "      <td>67.458859</td>\n",
       "    </tr>\n",
       "    <tr>\n",
       "      <th>2022-12-28</th>\n",
       "      <td>0.0</td>\n",
       "      <td>3.28</td>\n",
       "      <td>7.74</td>\n",
       "      <td>0.19</td>\n",
       "      <td>1.03</td>\n",
       "      <td>67.461033</td>\n",
       "    </tr>\n",
       "    <tr>\n",
       "      <th>2022-12-29</th>\n",
       "      <td>0.0</td>\n",
       "      <td>2.78</td>\n",
       "      <td>6.32</td>\n",
       "      <td>0.17</td>\n",
       "      <td>0.91</td>\n",
       "      <td>67.463204</td>\n",
       "    </tr>\n",
       "    <tr>\n",
       "      <th>2022-12-30</th>\n",
       "      <td>0.0</td>\n",
       "      <td>3.04</td>\n",
       "      <td>8.09</td>\n",
       "      <td>-1.19</td>\n",
       "      <td>1.14</td>\n",
       "      <td>67.465372</td>\n",
       "    </tr>\n",
       "    <tr>\n",
       "      <th>2022-12-31</th>\n",
       "      <td>0.0</td>\n",
       "      <td>4.19</td>\n",
       "      <td>9.94</td>\n",
       "      <td>-0.44</td>\n",
       "      <td>1.27</td>\n",
       "      <td>67.467536</td>\n",
       "    </tr>\n",
       "  </tbody>\n",
       "</table>\n",
       "<p>12418 rows × 6 columns</p>\n",
       "</div>"
      ],
      "text/plain": [
       "            precip   T2M  T2M_MAX  T2M_MIN  ETo_HS     runoff\n",
       "time                                                         \n",
       "1989-01-01     0.0  4.81    10.07     1.12    1.22   0.018179\n",
       "1989-01-02     0.0  5.83    12.39     0.13    1.49   0.036330\n",
       "1989-01-03     0.0  6.70    12.26     3.40    1.32   0.054453\n",
       "1989-01-04     0.0  7.05    12.15     4.04    1.29   0.072550\n",
       "1989-01-05     0.5  7.32    12.61     3.19    1.41   0.090633\n",
       "...            ...   ...      ...      ...     ...        ...\n",
       "2022-12-27     0.0  2.28     8.31    -2.52    1.18  67.458859\n",
       "2022-12-28     0.0  3.28     7.74     0.19    1.03  67.461033\n",
       "2022-12-29     0.0  2.78     6.32     0.17    0.91  67.463204\n",
       "2022-12-30     0.0  3.04     8.09    -1.19    1.14  67.465372\n",
       "2022-12-31     0.0  4.19     9.94    -0.44    1.27  67.467536\n",
       "\n",
       "[12418 rows x 6 columns]"
      ]
     },
     "execution_count": 13,
     "metadata": {},
     "output_type": "execute_result"
    }
   ],
   "source": [
    "suzhou_history"
   ]
  },
  {
   "cell_type": "code",
   "execution_count": 14,
   "metadata": {},
   "outputs": [
    {
     "data": {
      "text/plain": [
       "<Axes: xlabel='time'>"
      ]
     },
     "execution_count": 14,
     "metadata": {},
     "output_type": "execute_result"
    },
    {
     "data": {
      "image/png": "[encoded data removed]",
      "text/plain": [
       "<Figure size 640x480 with 1 Axes>"
      ]
     },
     "metadata": {},
     "output_type": "display_data"
    }
   ],
   "source": [
    "fengqiao_history['runoff'].plot()"
   ]
  },
  {
   "cell_type": "code",
   "execution_count": 13,
   "metadata": {},
   "outputs": [
    {
     "data": {
      "text/plain": [
       "<Axes: >"
      ]
     },
     "execution_count": 13,
     "metadata": {},
     "output_type": "execute_result"
    },
    {
     "data": {
      "image/png": "[encoded data removed]",
      "text/plain": [
       "<Figure size 640x480 with 1 Axes>"
      ]
     },
     "metadata": {},
     "output_type": "display_data"
    }
   ],
   "source": [
    "fengqiao_ssp585['runoff'].plot()"
   ]
  },
  {
   "cell_type": "code",
   "execution_count": 12,
   "metadata": {},
   "outputs": [],
   "source": [
    "history = pd.DataFrame({\n",
    "    'precip_fengqiao': fengqiao_history['precip'],\n",
    "    'precip_suzhou': suzhou_history['precip'],\n",
    "    'T2M': fengqiao_history['T2M'],\n",
    "    'T2M_MAX': fengqiao_history['T2M_MAX'],\n",
    "    'T2M_MIN': fengqiao_history['T2M_MIN'],\n",
    "    'ETo_HS': fengqiao_history['ETo_HS'],\n",
    "    'runoff_fengqiao': fengqiao_history['runoff'],\n",
    "    'runoff_suzhou': suzhou_history['runoff']\n",
    "    \n",
    "})\n",
    "\n",
    "ssp245 = pd.DataFrame({\n",
    "    'precip_fengqiao': fengqiao_ssp245['precip'],\n",
    "    'precip_suzhou': suzhou_ssp245['precip'],\n",
    "    'T2M': fengqiao_ssp245['T2M'],\n",
    "    'T2M_MAX': fengqiao_ssp245['T2M_MAX'],\n",
    "    'T2M_MIN': fengqiao_ssp245['T2M_MIN'],\n",
    "    'ETo_HS': fengqiao_ssp245['ETo_HS'],\n",
    "    'runoff_fengqiao': fengqiao_ssp245['runoff'],\n",
    "    'runoff_suzhou': suzhou_ssp245['runoff']\n",
    "})\n",
    "\n",
    "ssp585 = pd.DataFrame({\n",
    "    'precip_fengqiao': fengqiao_ssp585['precip'],\n",
    "    'precip_suzhou': suzhou_ssp585['precip'],\n",
    "    'T2M': fengqiao_ssp585['T2M'],\n",
    "    'T2M_MAX': fengqiao_ssp585['T2M_MAX'],\n",
    "    'T2M_MIN': fengqiao_ssp585['T2M_MIN'],\n",
    "    'ETo_HS': fengqiao_ssp585['ETo_HS'],\n",
    "    'runoff_fengqiao': fengqiao_ssp585['runoff'],\n",
    "    'runoff_suzhou': suzhou_ssp585['runoff']\n",
    "})\n",
    "\n",
    "history_wl = suzhou_data[['water_level']]\n",
    "\n",
    "# save these files \n",
    "history.to_csv('../data/results/history.csv')\n",
    "ssp245.to_csv('../data/results/ssp245.csv')\n",
    "ssp585.to_csv('../data/results/ssp585.csv')\n",
    "history_wl.to_csv('../data/results/history_wl.csv')"
   ]
  },
  {
   "cell_type": "code",
   "execution_count": 38,
   "metadata": {},
   "outputs": [],
   "source": [
    "from darts import TimeSeries\n",
    "from darts.models import RNNModel\n",
    "from darts.dataprocessing.transformers import Scaler\n",
    "from darts.metrics import mape, r2_score\n",
    "from darts.metrics import rmse\n",
    "import matplotlib.pyplot as plt\n",
    "\n",
    "# 从数据框创建时间序列\n",
    "series_history = TimeSeries.from_dataframe(history.reset_index(), 'time')\n",
    "series_wl = TimeSeries.from_dataframe(history_wl.reset_index(), 'time', ['water_level'])\n",
    "\n",
    "# 数据预处理\n",
    "scaler_history = Scaler()\n",
    "scaler_wl = Scaler()\n",
    "\n",
    "series_history_scaled = scaler_history.fit_transform(series_history)\n",
    "series_wl_scaled = scaler_wl.fit_transform(series_wl)\n",
    "\n",
    "wl_train, _ = series_wl_scaled.split_before(0.8)\n",
    "\n",
    "def evaluate_model(model,past_covariates=None, future_covariates=None):\n",
    "    # We backtest the model on the last 20% of the flow series, with a horizon of 10 steps:\n",
    "    backtest = model.historical_forecasts(series=series_wl_scaled, \n",
    "                                          past_covariates=past_covariates,\n",
    "                                          future_covariates=future_covariates,\n",
    "                                          start=0.8, \n",
    "                                          retrain=False,\n",
    "                                          verbose=True, \n",
    "                                          forecast_horizon=10)\n",
    "    \n",
    "    # Iterate over the list of TimeSeries objects and call the plot method on each one\n",
    "    for ts in [series_wl_scaled[-len(backtest)-100:], backtest]:\n",
    "        ts.plot(label='backtest (n=10)')\n",
    "    \n",
    "    print('Backtest RMSE = {}'.format(rmse(series_wl_scaled, backtest)))    "
   ]
  },
  {
   "cell_type": "code",
   "execution_count": 39,
   "metadata": {},
   "outputs": [
    {
     "name": "stderr",
     "output_type": "stream",
     "text": [
      "GPU available: True (cuda), used: True\n",
      "TPU available: False, using: 0 TPU cores\n",
      "IPU available: False, using: 0 IPUs\n",
      "HPU available: False, using: 0 HPUs\n"
     ]
    },
    {
     "ename": "RuntimeError",
     "evalue": "Lightning can't create new processes if CUDA is already initialized. Did you manually call `torch.cuda.*` functions, have moved the model to the device, or allocated memory on the GPU any other way? Please remove any such calls, or change the selected strategy. You will have to restart the Python kernel.",
     "output_type": "error",
     "traceback": [
      "\u001b[0;31m---------------------------------------------------------------------------\u001b[0m",
      "\u001b[0;31mRuntimeError\u001b[0m                              Traceback (most recent call last)",
      "Cell \u001b[0;32mIn[39], line 7\u001b[0m\n\u001b[1;32m      1\u001b[0m \u001b[39mfrom\u001b[39;00m \u001b[39mdarts\u001b[39;00m\u001b[39m.\u001b[39;00m\u001b[39mmodels\u001b[39;00m \u001b[39mimport\u001b[39;00m BlockRNNModel\n\u001b[1;32m      3\u001b[0m brnn_no_cov \u001b[39m=\u001b[39m BlockRNNModel(input_chunk_length\u001b[39m=\u001b[39m\u001b[39m30\u001b[39m, \n\u001b[1;32m      4\u001b[0m                             output_chunk_length\u001b[39m=\u001b[39m\u001b[39m10\u001b[39m, \n\u001b[1;32m      5\u001b[0m                             n_rnn_layers\u001b[39m=\u001b[39m\u001b[39m2\u001b[39m)\n\u001b[0;32m----> 7\u001b[0m brnn_no_cov\u001b[39m.\u001b[39;49mfit(wl_train, \n\u001b[1;32m      8\u001b[0m                 epochs\u001b[39m=\u001b[39;49m\u001b[39m100\u001b[39;49m, \n\u001b[1;32m      9\u001b[0m                 verbose\u001b[39m=\u001b[39;49m\u001b[39mTrue\u001b[39;49;00m)\n\u001b[1;32m     11\u001b[0m evaluate_model(brnn_no_cov)\n",
      "File \u001b[0;32m~/anaconda3/envs/py39/lib/python3.9/site-packages/darts/utils/torch.py:112\u001b[0m, in \u001b[0;36mrandom_method.<locals>.decorator\u001b[0;34m(self, *args, **kwargs)\u001b[0m\n\u001b[1;32m    110\u001b[0m \u001b[39mwith\u001b[39;00m fork_rng():\n\u001b[1;32m    111\u001b[0m     manual_seed(\u001b[39mself\u001b[39m\u001b[39m.\u001b[39m_random_instance\u001b[39m.\u001b[39mrandint(\u001b[39m0\u001b[39m, high\u001b[39m=\u001b[39mMAX_TORCH_SEED_VALUE))\n\u001b[0;32m--> 112\u001b[0m     \u001b[39mreturn\u001b[39;00m decorated(\u001b[39mself\u001b[39;49m, \u001b[39m*\u001b[39;49margs, \u001b[39m*\u001b[39;49m\u001b[39m*\u001b[39;49mkwargs)\n",
      "File \u001b[0;32m~/anaconda3/envs/py39/lib/python3.9/site-packages/darts/models/forecasting/torch_forecasting_model.py:705\u001b[0m, in \u001b[0;36mTorchForecastingModel.fit\u001b[0;34m(self, series, past_covariates, future_covariates, val_series, val_past_covariates, val_future_covariates, trainer, verbose, epochs, max_samples_per_ts, num_loader_workers)\u001b[0m\n\u001b[1;32m    699\u001b[0m \u001b[39m# call super fit only if user is actually fitting the model\u001b[39;00m\n\u001b[1;32m    700\u001b[0m \u001b[39msuper\u001b[39m()\u001b[39m.\u001b[39mfit(\n\u001b[1;32m    701\u001b[0m     series\u001b[39m=\u001b[39mseq2series(series),\n\u001b[1;32m    702\u001b[0m     past_covariates\u001b[39m=\u001b[39mseq2series(past_covariates),\n\u001b[1;32m    703\u001b[0m     future_covariates\u001b[39m=\u001b[39mseq2series(future_covariates),\n\u001b[1;32m    704\u001b[0m )\n\u001b[0;32m--> 705\u001b[0m \u001b[39mreturn\u001b[39;00m \u001b[39mself\u001b[39;49m\u001b[39m.\u001b[39;49mfit_from_dataset(\u001b[39m*\u001b[39;49mparams)\n",
      "File \u001b[0;32m~/anaconda3/envs/py39/lib/python3.9/site-packages/darts/utils/torch.py:112\u001b[0m, in \u001b[0;36mrandom_method.<locals>.decorator\u001b[0;34m(self, *args, **kwargs)\u001b[0m\n\u001b[1;32m    110\u001b[0m \u001b[39mwith\u001b[39;00m fork_rng():\n\u001b[1;32m    111\u001b[0m     manual_seed(\u001b[39mself\u001b[39m\u001b[39m.\u001b[39m_random_instance\u001b[39m.\u001b[39mrandint(\u001b[39m0\u001b[39m, high\u001b[39m=\u001b[39mMAX_TORCH_SEED_VALUE))\n\u001b[0;32m--> 112\u001b[0m     \u001b[39mreturn\u001b[39;00m decorated(\u001b[39mself\u001b[39;49m, \u001b[39m*\u001b[39;49margs, \u001b[39m*\u001b[39;49m\u001b[39m*\u001b[39;49mkwargs)\n",
      "File \u001b[0;32m~/anaconda3/envs/py39/lib/python3.9/site-packages/darts/models/forecasting/torch_forecasting_model.py:897\u001b[0m, in \u001b[0;36mTorchForecastingModel.fit_from_dataset\u001b[0;34m(self, train_dataset, val_dataset, trainer, verbose, epochs, num_loader_workers)\u001b[0m\n\u001b[1;32m    846\u001b[0m \u001b[39m@random_method\u001b[39m\n\u001b[1;32m    847\u001b[0m \u001b[39mdef\u001b[39;00m \u001b[39mfit_from_dataset\u001b[39m(\n\u001b[1;32m    848\u001b[0m     \u001b[39mself\u001b[39m,\n\u001b[0;32m   (...)\u001b[0m\n\u001b[1;32m    854\u001b[0m     num_loader_workers: \u001b[39mint\u001b[39m \u001b[39m=\u001b[39m \u001b[39m0\u001b[39m,\n\u001b[1;32m    855\u001b[0m ) \u001b[39m-\u001b[39m\u001b[39m>\u001b[39m \u001b[39m\"\u001b[39m\u001b[39mTorchForecastingModel\u001b[39m\u001b[39m\"\u001b[39m:\n\u001b[1;32m    856\u001b[0m \u001b[39m    \u001b[39m\u001b[39m\"\"\"\u001b[39;00m\n\u001b[1;32m    857\u001b[0m \u001b[39m    Train the model with a specific :class:`darts.utils.data.TrainingDataset` instance.\u001b[39;00m\n\u001b[1;32m    858\u001b[0m \u001b[39m    These datasets implement a PyTorch ``Dataset``, and specify how the target and covariates are sliced\u001b[39;00m\n\u001b[0;32m   (...)\u001b[0m\n\u001b[1;32m    895\u001b[0m \u001b[39m        Fitted model.\u001b[39;00m\n\u001b[1;32m    896\u001b[0m \u001b[39m    \"\"\"\u001b[39;00m\n\u001b[0;32m--> 897\u001b[0m     \u001b[39mself\u001b[39;49m\u001b[39m.\u001b[39;49m_train(\n\u001b[1;32m    898\u001b[0m         \u001b[39m*\u001b[39;49m\u001b[39mself\u001b[39;49m\u001b[39m.\u001b[39;49m_setup_for_train(\n\u001b[1;32m    899\u001b[0m             train_dataset\u001b[39m=\u001b[39;49mtrain_dataset,\n\u001b[1;32m    900\u001b[0m             val_dataset\u001b[39m=\u001b[39;49mval_dataset,\n\u001b[1;32m    901\u001b[0m             trainer\u001b[39m=\u001b[39;49mtrainer,\n\u001b[1;32m    902\u001b[0m             verbose\u001b[39m=\u001b[39;49mverbose,\n\u001b[1;32m    903\u001b[0m             epochs\u001b[39m=\u001b[39;49mepochs,\n\u001b[1;32m    904\u001b[0m             num_loader_workers\u001b[39m=\u001b[39;49mnum_loader_workers,\n\u001b[1;32m    905\u001b[0m         )\n\u001b[1;32m    906\u001b[0m     )\n\u001b[1;32m    907\u001b[0m     \u001b[39mreturn\u001b[39;00m \u001b[39mself\u001b[39m\n",
      "File \u001b[0;32m~/anaconda3/envs/py39/lib/python3.9/site-packages/darts/models/forecasting/torch_forecasting_model.py:1041\u001b[0m, in \u001b[0;36mTorchForecastingModel._train\u001b[0;34m(self, trainer, model, train_loader, val_loader)\u001b[0m\n\u001b[1;32m   1038\u001b[0m ckpt_path \u001b[39m=\u001b[39m \u001b[39mself\u001b[39m\u001b[39m.\u001b[39mload_ckpt_path\n\u001b[1;32m   1039\u001b[0m \u001b[39mself\u001b[39m\u001b[39m.\u001b[39mload_ckpt_path \u001b[39m=\u001b[39m \u001b[39mNone\u001b[39;00m\n\u001b[0;32m-> 1041\u001b[0m trainer\u001b[39m.\u001b[39;49mfit(\n\u001b[1;32m   1042\u001b[0m     model,\n\u001b[1;32m   1043\u001b[0m     train_dataloaders\u001b[39m=\u001b[39;49mtrain_loader,\n\u001b[1;32m   1044\u001b[0m     val_dataloaders\u001b[39m=\u001b[39;49mval_loader,\n\u001b[1;32m   1045\u001b[0m     ckpt_path\u001b[39m=\u001b[39;49mckpt_path,\n\u001b[1;32m   1046\u001b[0m )\n\u001b[1;32m   1047\u001b[0m \u001b[39mself\u001b[39m\u001b[39m.\u001b[39mmodel \u001b[39m=\u001b[39m model\n\u001b[1;32m   1048\u001b[0m \u001b[39mself\u001b[39m\u001b[39m.\u001b[39mtrainer \u001b[39m=\u001b[39m trainer\n",
      "File \u001b[0;32m~/anaconda3/envs/py39/lib/python3.9/site-packages/pytorch_lightning/trainer/trainer.py:520\u001b[0m, in \u001b[0;36mTrainer.fit\u001b[0;34m(self, model, train_dataloaders, val_dataloaders, datamodule, ckpt_path)\u001b[0m\n\u001b[1;32m    518\u001b[0m model \u001b[39m=\u001b[39m _maybe_unwrap_optimized(model)\n\u001b[1;32m    519\u001b[0m \u001b[39mself\u001b[39m\u001b[39m.\u001b[39mstrategy\u001b[39m.\u001b[39m_lightning_module \u001b[39m=\u001b[39m model\n\u001b[0;32m--> 520\u001b[0m call\u001b[39m.\u001b[39;49m_call_and_handle_interrupt(\n\u001b[1;32m    521\u001b[0m     \u001b[39mself\u001b[39;49m, \u001b[39mself\u001b[39;49m\u001b[39m.\u001b[39;49m_fit_impl, model, train_dataloaders, val_dataloaders, datamodule, ckpt_path\n\u001b[1;32m    522\u001b[0m )\n",
      "File \u001b[0;32m~/anaconda3/envs/py39/lib/python3.9/site-packages/pytorch_lightning/trainer/call.py:42\u001b[0m, in \u001b[0;36m_call_and_handle_interrupt\u001b[0;34m(trainer, trainer_fn, *args, **kwargs)\u001b[0m\n\u001b[1;32m     40\u001b[0m \u001b[39mtry\u001b[39;00m:\n\u001b[1;32m     41\u001b[0m     \u001b[39mif\u001b[39;00m trainer\u001b[39m.\u001b[39mstrategy\u001b[39m.\u001b[39mlauncher \u001b[39mis\u001b[39;00m \u001b[39mnot\u001b[39;00m \u001b[39mNone\u001b[39;00m:\n\u001b[0;32m---> 42\u001b[0m         \u001b[39mreturn\u001b[39;00m trainer\u001b[39m.\u001b[39;49mstrategy\u001b[39m.\u001b[39;49mlauncher\u001b[39m.\u001b[39;49mlaunch(trainer_fn, \u001b[39m*\u001b[39;49margs, trainer\u001b[39m=\u001b[39;49mtrainer, \u001b[39m*\u001b[39;49m\u001b[39m*\u001b[39;49mkwargs)\n\u001b[1;32m     43\u001b[0m     \u001b[39melse\u001b[39;00m:\n\u001b[1;32m     44\u001b[0m         \u001b[39mreturn\u001b[39;00m trainer_fn(\u001b[39m*\u001b[39margs, \u001b[39m*\u001b[39m\u001b[39m*\u001b[39mkwargs)\n",
      "File \u001b[0;32m~/anaconda3/envs/py39/lib/python3.9/site-packages/pytorch_lightning/strategies/launchers/multiprocessing.py:99\u001b[0m, in \u001b[0;36m_MultiProcessingLauncher.launch\u001b[0;34m(self, function, trainer, *args, **kwargs)\u001b[0m\n\u001b[1;32m     97\u001b[0m \u001b[39mself\u001b[39m\u001b[39m.\u001b[39m_check_torchdistx_support()\n\u001b[1;32m     98\u001b[0m \u001b[39mif\u001b[39;00m \u001b[39mself\u001b[39m\u001b[39m.\u001b[39m_start_method \u001b[39min\u001b[39;00m (\u001b[39m\"\u001b[39m\u001b[39mfork\u001b[39m\u001b[39m\"\u001b[39m, \u001b[39m\"\u001b[39m\u001b[39mforkserver\u001b[39m\u001b[39m\"\u001b[39m):\n\u001b[0;32m---> 99\u001b[0m     _check_bad_cuda_fork()\n\u001b[1;32m    101\u001b[0m \u001b[39m# The default cluster environment in Lightning chooses a random free port number\u001b[39;00m\n\u001b[1;32m    102\u001b[0m \u001b[39m# This needs to be done in the main process here before starting processes to ensure each rank will connect\u001b[39;00m\n\u001b[1;32m    103\u001b[0m \u001b[39m# through the same port\u001b[39;00m\n\u001b[1;32m    104\u001b[0m \u001b[39massert\u001b[39;00m \u001b[39mself\u001b[39m\u001b[39m.\u001b[39m_strategy\u001b[39m.\u001b[39mcluster_environment \u001b[39mis\u001b[39;00m \u001b[39mnot\u001b[39;00m \u001b[39mNone\u001b[39;00m\n",
      "File \u001b[0;32m~/anaconda3/envs/py39/lib/python3.9/site-packages/lightning_fabric/strategies/launchers/multiprocessing.py:189\u001b[0m, in \u001b[0;36m_check_bad_cuda_fork\u001b[0;34m()\u001b[0m\n\u001b[1;32m    187\u001b[0m \u001b[39mif\u001b[39;00m _IS_INTERACTIVE:\n\u001b[1;32m    188\u001b[0m     message \u001b[39m+\u001b[39m\u001b[39m=\u001b[39m \u001b[39m\"\u001b[39m\u001b[39m You will have to restart the Python kernel.\u001b[39m\u001b[39m\"\u001b[39m\n\u001b[0;32m--> 189\u001b[0m \u001b[39mraise\u001b[39;00m \u001b[39mRuntimeError\u001b[39;00m(message)\n",
      "\u001b[0;31mRuntimeError\u001b[0m: Lightning can't create new processes if CUDA is already initialized. Did you manually call `torch.cuda.*` functions, have moved the model to the device, or allocated memory on the GPU any other way? Please remove any such calls, or change the selected strategy. You will have to restart the Python kernel."
     ]
    }
   ],
   "source": [
    "from darts.models import BlockRNNModel\n",
    "\n",
    "brnn_no_cov = BlockRNNModel(input_chunk_length=30, \n",
    "                            output_chunk_length=10, \n",
    "                            n_rnn_layers=2)\n",
    "\n",
    "brnn_no_cov.fit(wl_train, \n",
    "                epochs=100, \n",
    "                verbose=True)\n",
    "\n",
    "evaluate_model(brnn_no_cov)"
   ]
  },
  {
   "cell_type": "code",
   "execution_count": 1,
   "metadata": {},
   "outputs": [
    {
     "ename": "NameError",
     "evalue": "name 'RNNModel' is not defined",
     "output_type": "error",
     "traceback": [
      "\u001b[0;31m---------------------------------------------------------------------------\u001b[0m",
      "\u001b[0;31mNameError\u001b[0m                                 Traceback (most recent call last)",
      "Cell \u001b[0;32mIn[1], line 2\u001b[0m\n\u001b[1;32m      1\u001b[0m \u001b[39m# 创建并训练LSTM模型\u001b[39;00m\n\u001b[0;32m----> 2\u001b[0m model \u001b[39m=\u001b[39m RNNModel(\n\u001b[1;32m      3\u001b[0m     model\u001b[39m=\u001b[39m\u001b[39m'\u001b[39m\u001b[39mLSTM\u001b[39m\u001b[39m'\u001b[39m,\n\u001b[1;32m      4\u001b[0m     hidden_dim\u001b[39m=\u001b[39m\u001b[39m20\u001b[39m,  \u001b[39m# 隐藏层节点数，你可以调整以优化模型性能\u001b[39;00m\n\u001b[1;32m      5\u001b[0m     dropout\u001b[39m=\u001b[39m\u001b[39m0.1\u001b[39m,  \u001b[39m# dropout 率，你可以调整以优化模型性能\u001b[39;00m\n\u001b[1;32m      6\u001b[0m     batch_size\u001b[39m=\u001b[39m\u001b[39m16\u001b[39m,  \u001b[39m# 批量大小，你可以调整以优化模型性能\u001b[39;00m\n\u001b[1;32m      7\u001b[0m     n_epochs\u001b[39m=\u001b[39m\u001b[39m100\u001b[39m,  \u001b[39m# 迭代次数，你可以调整以优化模型性能\u001b[39;00m\n\u001b[1;32m      8\u001b[0m     optimizer_kwargs\u001b[39m=\u001b[39m{\u001b[39m'\u001b[39m\u001b[39mlr\u001b[39m\u001b[39m'\u001b[39m: \u001b[39m1e-3\u001b[39m},  \u001b[39m# 优化器参数，你可以调整以优化模型性能\u001b[39;00m\n\u001b[1;32m      9\u001b[0m     model_name\u001b[39m=\u001b[39m\u001b[39m'\u001b[39m\u001b[39mLSTM_model\u001b[39m\u001b[39m'\u001b[39m, \n\u001b[1;32m     10\u001b[0m     log_tensorboard\u001b[39m=\u001b[39m\u001b[39mTrue\u001b[39;00m, \n\u001b[1;32m     11\u001b[0m     random_state\u001b[39m=\u001b[39m\u001b[39m42\u001b[39m,\n\u001b[1;32m     12\u001b[0m     training_length\u001b[39m=\u001b[39m\u001b[39m20\u001b[39m,  \u001b[39m# 使用过去多少个时间步的数据来预测，你可以调整以优化模型性能\u001b[39;00m\n\u001b[1;32m     13\u001b[0m     input_chunk_length\u001b[39m=\u001b[39m\u001b[39m10\u001b[39m,  \u001b[39m# 使用过去多少个时间步的数据来预测，你可以调整以优化模型性能\u001b[39;00m\n\u001b[1;32m     14\u001b[0m     force_reset\u001b[39m=\u001b[39m\u001b[39mTrue\u001b[39;00m\n\u001b[1;32m     15\u001b[0m )\n\u001b[1;32m     17\u001b[0m model\u001b[39m.\u001b[39mfit(series\u001b[39m=\u001b[39mtrain_history, past_covariates\u001b[39m=\u001b[39mtrain_wl, verbose\u001b[39m=\u001b[39m\u001b[39mTrue\u001b[39;00m)\n\u001b[1;32m     19\u001b[0m \u001b[39m# 进行预测\u001b[39;00m\n",
      "\u001b[0;31mNameError\u001b[0m: name 'RNNModel' is not defined"
     ]
    }
   ],
   "source": [
    "# 创建并训练LSTM模型\n",
    "model = RNNModel(\n",
    "    model='LSTM',\n",
    "    hidden_dim=20,  # 隐藏层节点数，你可以调整以优化模型性能\n",
    "    dropout=0.1,  # dropout 率，你可以调整以优化模型性能\n",
    "    batch_size=16,  # 批量大小，你可以调整以优化模型性能\n",
    "    n_epochs=100,  # 迭代次数，你可以调整以优化模型性能\n",
    "    optimizer_kwargs={'lr': 1e-3},  # 优化器参数，你可以调整以优化模型性能\n",
    "    model_name='LSTM_model', \n",
    "    log_tensorboard=True, \n",
    "    random_state=42,\n",
    "    training_length=20,  # 使用过去多少个时间步的数据来预测，你可以调整以优化模型性能\n",
    "    input_chunk_length=10,  # 使用过去多少个时间步的数据来预测，你可以调整以优化模型性能\n",
    "    force_reset=True\n",
    ")\n",
    "\n",
    "model.fit(series=train_history, past_covariates=train_wl, verbose=True)\n",
    "\n",
    "# 进行预测\n",
    "future_covariates = series_wl_scaled.drop_before(train_wl.end_time() - pd.DateOffset(days=1))\n",
    "prediction_wl = model.predict(n=14, series=train_history, future_covariates=future_covariates)\n",
    "\n",
    "# 评估模型\n",
    "print('MAPE =', mape(prediction_wl, val_wl))\n",
    "print('R^2  =', r2_score(prediction_wl, val_wl))"
   ]
  },
  {
   "attachments": {},
   "cell_type": "markdown",
   "metadata": {},
   "source": [
    "# Attributes of the dataframes"
   ]
  }
 ],
 "metadata": {
  "kernelspec": {
   "display_name": "py39",
   "language": "python",
   "name": "py39"
  },
  "language_info": {
   "codemirror_mode": {
    "name": "ipython",
    "version": 3
   },
   "file_extension": ".py",
   "mimetype": "text/x-python",
   "name": "python",
   "nbconvert_exporter": "python",
   "pygments_lexer": "ipython3",
   "version": "3.9.16"
  },
  "orig_nbformat": 4
 },
 "nbformat": 4,
 "nbformat_minor": 2
}
